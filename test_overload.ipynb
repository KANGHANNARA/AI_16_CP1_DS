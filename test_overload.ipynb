{
  "nbformat": 4,
  "nbformat_minor": 0,
  "metadata": {
    "colab": {
      "provenance": []
    },
    "kernelspec": {
      "name": "python3",
      "display_name": "Python 3"
    },
    "language_info": {
      "name": "python"
    }
  },
  "cells": [
    {
      "cell_type": "code",
      "execution_count": 1,
      "metadata": {
        "id": "71cTPfrdEmMd"
      },
      "outputs": [],
      "source": [
        "import cv2\n",
        "import torch\n",
        "from tqdm import tqdm\n",
        "\n",
        "def detection(input_video, output_video, model):\n",
        "    cap = cv2.VideoCapture(input_video)\n",
        "\n",
        "    width = int(cap.get(cv2.CAP_PROP_FRAME_WIDTH))\n",
        "    height = int(cap.get(cv2.CAP_PROP_FRAME_HEIGHT))\n",
        "    fps = int(cap.get(cv2.CAP_PROP_FPS))\n",
        "    total_frames = int(cap.get(cv2.CAP_PROP_FRAME_COUNT))\n",
        "\n",
        "    fourcc = cv2.VideoWriter_fourcc(*'mp4v')\n",
        "    out = cv2.VideoWriter(output_video, fourcc, fps, (width, height))\n",
        "\n",
        "    with tqdm(total=total_frames, desc=\"Processing\", unit=\"frame\") as pbar:\n",
        "        while cap.isOpened():\n",
        "            ret, frame = cap.read()\n",
        "            if not ret:\n",
        "                break\n",
        "            results = model(frame)\n",
        "            result_frame = results.render()[0]\n",
        "            out.write(result_frame)\n",
        "            pbar.update(1)\n",
        "\n",
        "    cap.release()\n",
        "    out.release()\n",
        "    cv2.destroyAllWindows()"
      ]
    },
    {
      "cell_type": "code",
      "source": [
        "#model = torch.hub.load('ultralytics/yolov5', 'yolov5s')\n",
        "model = torch.hub.load('ultralytics/yolov5', 'custom', '/content/yolov5/runs/train/KHNR_yolov5s_results/weights/best.pt') #'./models/best.pt'\n",
        "input_video = '/content/drive/MyDrive/New_Sample/overloaded/data/video/sample6.mp4'\n",
        "output_video = 'output_video.mp4'\n",
        "\n",
        "detection(model = model,\n",
        "          input_video = input_video,\n",
        "          output_video = output_video)"
      ],
      "metadata": {
        "id": "AcDsJ-dLEul1"
      },
      "execution_count": null,
      "outputs": []
    }
  ]
}