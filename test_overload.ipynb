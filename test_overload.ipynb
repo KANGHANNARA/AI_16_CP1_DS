{
  "nbformat": 4,
  "nbformat_minor": 0,
  "metadata": {
    "colab": {
      "provenance": [],
      "include_colab_link": true
    },
    "kernelspec": {
      "name": "python3",
      "display_name": "Python 3"
    },
    "language_info": {
      "name": "python"
    },
    "accelerator": "GPU",
    "gpuClass": "standard"
  },
  "cells": [
    {
      "cell_type": "markdown",
      "metadata": {
        "id": "view-in-github",
        "colab_type": "text"
      },
      "source": [
        "<a href=\"https://colab.research.google.com/github/KANGHANNARA/AI_16_CP1_DS/blob/main/test_overload.ipynb\" target=\"_parent\"><img src=\"https://colab.research.google.com/assets/colab-badge.svg\" alt=\"Open In Colab\"/></a>"
      ]
    },
    {
      "cell_type": "markdown",
      "source": [
        "# YOLOv5 를 통한 과적차량과 정상차량 object detection"
      ],
      "metadata": {
        "id": "SXXUTLdn0fJk"
      }
    },
    {
      "cell_type": "markdown",
      "source": [
        "과적화물차량과 정상화물차량을 분류하는 주피터 노트북\n",
        "\n",
        "실행전에 runtime을 GPU로 바꿔서 실행하는 것을 추천드립니다.\n",
        "\n",
        "런타임 > 런타임 유형 변경 > GPU > 저장"
      ],
      "metadata": {
        "id": "CPkA3i_x0uGR"
      }
    },
    {
      "cell_type": "markdown",
      "source": [
        "ctrl+F9 를 눌러 모두 실행하거나 번호 밑의 재생버튼을 눌러서 한 단계 씩 실행 할 수 있습니다."
      ],
      "metadata": {
        "id": "Tn3D1y6J42_1"
      }
    },
    {
      "cell_type": "code",
      "source": [
        "%%capture\n",
        "#@title 1.object detection 모델 colab 환경설정\n",
        "#@markdown - git clone을 이용해서 모델과 requirements.txt 불러와서 로드하는 과정입니다.\\\n",
        "#@markdown - 1번을 두번실행할 경우 중복설치됩니다. 꼭 한번만 눌러주세요.\n",
        "\n",
        "!git clone https://github.com/KANGHANNARA/AI_16_CP1_DS.git\n",
        "%cd AI_16_CP1_DS\n",
        "!git clone https://github.com/ultralytics/yolov5.git\n",
        "!pip install -r ./AI_16_CP1_DS/requirements.txt"
      ],
      "metadata": {
        "cellView": "form",
        "id": "IWGQfUAJ1M-n"
      },
      "execution_count": 1,
      "outputs": []
    },
    {
      "cell_type": "code",
      "source": [
        "#@title 2. 영상 업로드\n",
        "#@markdown - 테스트 영상를 업로드 하는과정입니다.\n",
        "#@markdown - 테스트파일이 없다면 video_samples폴더에서 랜덤으로 다운로드하여 사용해도 상관없습니다.\n",
        "\n",
        "import os\n",
        "from google.colab import files\n",
        "\n",
        "# 경로 설정\n",
        "input_dir = '/content/AI_16_CP1_DS/input'\n",
        "if not os.path.exists(input_dir):\n",
        "    os.makedirs(input_dir)\n",
        "\n",
        "%cd input\n",
        "uploaded = files.upload()"
      ],
      "metadata": {
        "cellView": "form",
        "id": "hkFPb6wu6NJ3"
      },
      "execution_count": null,
      "outputs": []
    },
    {
      "cell_type": "code",
      "source": [
        "#@title 3.영상 테스트\n",
        "#@markdown 업로드한 영상속 화물차량이 불법차량인지 정상차량인지 판단하는 과정입니다.\n",
        "#@markdown - 검증이 완료된 영상은 AI_16_CP1_DS -> output에서 확인가능합니다.\n",
        "#@markdown - 다른 영상을 추가로 검증하고자 할때는 3.1로 내려갑니다.\n",
        "\n",
        "import os\n",
        "import shutil\n",
        "import re\n",
        "\n",
        "%cd ../yolov5\n",
        "# input 폴더 경로\n",
        "input_dir = '../input'\n",
        "\n",
        "# mp4 파일 검색\n",
        "mp4_files = [os.path.join(input_dir, file) for file in os.listdir(input_dir) if file.endswith('.mp4')]\n",
        "\n",
        "# 검증 명령어 실행\n",
        "for file in mp4_files:\n",
        "    !python detect.py --source '{file}' --weights ../model/best.pt\n",
        "\n",
        "# exp 폴더 경로\n",
        "exp_dir = './runs/detect'\n",
        "\n",
        "# output 폴더 경로\n",
        "output_dir = '../output'\n",
        "\n",
        "# output 폴더가 없으면 생성\n",
        "if not os.path.exists(output_dir):\n",
        "    os.makedirs(output_dir)\n",
        "\n",
        "# 모든 exp 관련 폴더 검색\n",
        "for folder in os.listdir(exp_dir):\n",
        "    if re.match(r'exp\\d*$', folder):\n",
        "        current_exp_dir = os.path.join(exp_dir, folder)\n",
        "\n",
        "        # 검증된 mp4 파일 검색 및 이동\n",
        "        for file in os.listdir(current_exp_dir):\n",
        "            if file.endswith('.mp4'):\n",
        "                src = os.path.join(current_exp_dir, file)\n",
        "                dst = os.path.join(output_dir, file)\n",
        "                shutil.move(src, dst)"
      ],
      "metadata": {
        "cellView": "form",
        "id": "9Ow2JWhw6NGR"
      },
      "execution_count": null,
      "outputs": []
    },
    {
      "cell_type": "code",
      "source": [
        "#@title 3.1 재시작\n",
        "#@markdown - 3.1 시작버튼을 누릅니다.\n",
        "#@markdown - input 폴더에 검증했던 영상을 삭제합니다.\n",
        "#@markdown - 2번 부터 다시 시작합니다\n",
        "#@markdown - 3.1 재시작 버튼은 재시작 할 때 한 번만 눌러야합니다\n",
        "\n",
        "%cd ../"
      ],
      "metadata": {
        "cellView": "form",
        "id": "Q-jHhEBeCJo-"
      },
      "execution_count": null,
      "outputs": []
    }
  ]
}